{
 "cells": [
  {
   "cell_type": "markdown",
   "metadata": {},
   "source": [
    "# 학과 홈페이지 공지사항 크롤링 프로젝트"
   ]
  },
  {
   "cell_type": "markdown",
   "metadata": {},
   "source": [
    "- 학습"
   ]
  },
  {
   "cell_type": "code",
   "execution_count": 2,
   "metadata": {},
   "outputs": [],
   "source": [
    "from bs4 import BeautifulSoup\n",
    "\n",
    "html_doc = \"\"\"\n",
    "<html><head><title>The Dormouse's story</title></head>\n",
    "<body>\n",
    "<p class=\"title\"><b>The Dormouse's story</b></p>\n",
    "\n",
    "<p class=\"story\">Once upon a time there were three little sisters; and their names were\n",
    "<a href=\"http://example.com/elsie\" class=\"sister\" id=\"link1\">Elsie</a>,\n",
    "<a href=\"http://example.com/lacie\" class=\"sister\" id=\"link2\">Lacie</a> and\n",
    "<a href=\"http://example.com/tillie\" class=\"sister\" id=\"link3\">Tillie</a>;\n",
    "and they lived at the bottom of a well.</p>\n",
    "\n",
    "<p class=\"story\">...</p>\n",
    "\"\"\""
   ]
  },
  {
   "cell_type": "code",
   "execution_count": null,
   "metadata": {},
   "outputs": [],
   "source": [
    "# Beautifulsoup 객체를 생성한다.\n",
    "soup = BeautifulSoup(html_doc, 'lxml')\n",
    "\n",
    "# 객체.태그이름\n",
    "# .태그 이름으로 하위 태그로의 접근이 가능하다.\n",
    "print(\"soup.body.p의 결과 : \", soup.body.p)"
   ]
  },
  {
   "cell_type": "code",
   "execution_count": null,
   "metadata": {},
   "outputs": [],
   "source": [
    "# 객체.코드['속성 이름']\n",
    "# 객체의 태그 속성은 파이썬 딕셔너리처럼 태그['속성 이름']으로 접근이 가능하다.\n",
    "print(\"soup.a['href']의 결과 : \", soup.a['href'])"
   ]
  },
  {
   "cell_type": "code",
   "execution_count": null,
   "metadata": {},
   "outputs": [],
   "source": [
    "# 객체.name\n",
    "## name 변수\n",
    "print(\"soup.title.name의 결과 : \", soup.title.name)"
   ]
  },
  {
   "cell_type": "code",
   "execution_count": null,
   "metadata": {},
   "outputs": [],
   "source": [
    "# 객체.string\n",
    "## string 변수\n",
    "print(\"soup.title.string의 결과 : \", soup.title.string)"
   ]
  },
  {
   "cell_type": "code",
   "execution_count": null,
   "metadata": {},
   "outputs": [],
   "source": [
    "# 객체.contents\n",
    "## 태그의 자식들을 리스트로 반환\n",
    "print(\"soup.contents의 결과 : \", soup.contents)"
   ]
  },
  {
   "cell_type": "code",
   "execution_count": null,
   "metadata": {},
   "outputs": [],
   "source": [
    "# find() : 태그 하나만 가져옴\n",
    "'''\n",
    "find(name, attrs, recursive, string, **kwargs)\n",
    "\n",
    "[옵션]\n",
    "name - 태그 이름\n",
    "attrs - 속성(딕셔너리로)\n",
    "recursive - 모든 자식 or 자식\n",
    "string - 태그 안에 텍스트\n",
    "keyword - 속성(키워드로)\n",
    "'''\n",
    "\n",
    "print(\"soup.find()의 결과 : \", soup.find('a', attrs={'class' : 'sister'}))"
   ]
  },
  {
   "cell_type": "code",
   "execution_count": null,
   "metadata": {},
   "outputs": [],
   "source": [
    "#find_all() : 해당 태그가 여러 개 있을 경우 한꺼번에 모두 가져온다. 그 객체들의 리스트로 반환한다.\n",
    "'''\n",
    "find_all(name, attrs, recursive, string, limit, **kwargs)\n",
    "'''\n",
    "print(\"soup.find_all()의 결과 : \", soup.find_all('a', limit=2))"
   ]
  },
  {
   "cell_type": "markdown",
   "metadata": {},
   "source": [
    "- 학과 홈페이지 공지사항 제목 크롤링"
   ]
  },
  {
   "cell_type": "code",
   "execution_count": 15,
   "metadata": {},
   "outputs": [],
   "source": [
    "import requests\n",
    "from bs4 import BeautifulSoup\n",
    "\n",
    "# '컴퓨터공학과 공지사항 링크\n",
    "url = \"https://computer.chungbuk.ac.kr/bbs/bbs.php?db=notice\"\n",
    "\n",
    "#html 소스 가져오기\n",
    "res = requests.get(url)\n"
   ]
  },
  {
   "cell_type": "code",
   "execution_count": null,
   "metadata": {},
   "outputs": [],
   "source": [
    "#html 파싱\n",
    "soup = BeautifulSoup(res.text,'lxml')\n",
    "\n",
    "# 공지사항 리스트\n",
    "list = soup.find_all('nobr')\n",
    "# print(list)\n",
    "\n",
    "# 공지사항 제목 출력\n",
    "count = 0\n",
    "for li in list:\n",
    "    count += 1\n",
    "    print(f\"[{count}th] \", li.a.string)\n",
    " "
   ]
  }
 ],
 "metadata": {
  "kernelspec": {
   "display_name": "Python 3",
   "language": "python",
   "name": "python3"
  },
  "language_info": {
   "codemirror_mode": {
    "name": "ipython",
    "version": 3
   },
   "file_extension": ".py",
   "mimetype": "text/x-python",
   "name": "python",
   "nbconvert_exporter": "python",
   "pygments_lexer": "ipython3",
   "version": "3.12.2"
  }
 },
 "nbformat": 4,
 "nbformat_minor": 2
}
